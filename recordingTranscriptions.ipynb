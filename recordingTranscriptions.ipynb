{
 "cells": [
  {
   "cell_type": "markdown",
   "metadata": {},
   "source": [
    "## Transcriptions"
   ]
  },
  {
   "cell_type": "markdown",
   "metadata": {},
   "source": [
    "First we load the relevant libraries"
   ]
  },
  {
   "cell_type": "code",
   "execution_count": 1,
   "metadata": {},
   "outputs": [],
   "source": [
    "import numpy as np\n",
    "from google.cloud import speech\n",
    "import os\n",
    "import io "
   ]
  },
  {
   "cell_type": "markdown",
   "metadata": {},
   "source": [
    "Now we instantiate the Google Speech client. We pass the location of the api key to the GOOGLE_APPLICATION_CREDENTIALS environmental variable."
   ]
  },
  {
   "cell_type": "code",
   "execution_count": 2,
   "metadata": {},
   "outputs": [],
   "source": [
    "os.environ[\"GOOGLE_APPLICATION_CREDENTIALS\"] = 'the-tokenizer-350809-172c7ed65561.json'\n",
    "client = speech.SpeechClient()"
   ]
  },
  {
   "cell_type": "markdown",
   "metadata": {},
   "source": [
    "Load the audiofile"
   ]
  },
  {
   "cell_type": "code",
   "execution_count": 14,
   "metadata": {},
   "outputs": [],
   "source": [
    "#the path of your audio file\n",
    "file_name = \"exerptFromZoomMeetingMono.wav\"\n",
    "# file_name = \"OSR_us_000_0010_8k.wav\"\n",
    "with io.open(file_name, \"rb\") as audio_file:\n",
    "    content = audio_file.read()\n",
    "    audio = speech.RecognitionAudio(content=content)"
   ]
  },
  {
   "cell_type": "code",
   "execution_count": null,
   "metadata": {},
   "outputs": [],
   "source": []
  },
  {
   "cell_type": "code",
   "execution_count": 17,
   "metadata": {},
   "outputs": [],
   "source": [
    "config = speech.RecognitionConfig(\n",
    "    encoding=speech.RecognitionConfig.AudioEncoding.LINEAR16,\n",
    "    enable_automatic_punctuation=True,\n",
    "    audio_channel_count=1,\n",
    "    sample_rate_hertz=32000,\n",
    "    language_code=\"de-DE\",\n",
    ")"
   ]
  },
  {
   "cell_type": "code",
   "execution_count": 18,
   "metadata": {},
   "outputs": [
    {
     "ename": "InvalidArgument",
     "evalue": "400 Sync input too long. For audio longer than 1 min use LongRunningRecognize with a 'uri' parameter.",
     "output_type": "error",
     "traceback": [
      "\u001b[0;31m---------------------------------------------------------------------------\u001b[0m",
      "\u001b[0;31m_InactiveRpcError\u001b[0m                         Traceback (most recent call last)",
      "File \u001b[0;32m~/Projects/AtlasOfSmoothSpaces/SpeechInterjections/.venv/lib/python3.8/site-packages/google/api_core/grpc_helpers.py:57\u001b[0m, in \u001b[0;36m_wrap_unary_errors.<locals>.error_remapped_callable\u001b[0;34m(*args, **kwargs)\u001b[0m\n\u001b[1;32m     <a href='file:///home/leonhard/Projects/AtlasOfSmoothSpaces/SpeechInterjections/.venv/lib/python3.8/site-packages/google/api_core/grpc_helpers.py?line=55'>56</a>\u001b[0m \u001b[39mtry\u001b[39;00m:\n\u001b[0;32m---> <a href='file:///home/leonhard/Projects/AtlasOfSmoothSpaces/SpeechInterjections/.venv/lib/python3.8/site-packages/google/api_core/grpc_helpers.py?line=56'>57</a>\u001b[0m     \u001b[39mreturn\u001b[39;00m callable_(\u001b[39m*\u001b[39;49margs, \u001b[39m*\u001b[39;49m\u001b[39m*\u001b[39;49mkwargs)\n\u001b[1;32m     <a href='file:///home/leonhard/Projects/AtlasOfSmoothSpaces/SpeechInterjections/.venv/lib/python3.8/site-packages/google/api_core/grpc_helpers.py?line=57'>58</a>\u001b[0m \u001b[39mexcept\u001b[39;00m grpc\u001b[39m.\u001b[39mRpcError \u001b[39mas\u001b[39;00m exc:\n",
      "File \u001b[0;32m~/Projects/AtlasOfSmoothSpaces/SpeechInterjections/.venv/lib/python3.8/site-packages/grpc/_channel.py:946\u001b[0m, in \u001b[0;36m_UnaryUnaryMultiCallable.__call__\u001b[0;34m(self, request, timeout, metadata, credentials, wait_for_ready, compression)\u001b[0m\n\u001b[1;32m    <a href='file:///home/leonhard/Projects/AtlasOfSmoothSpaces/SpeechInterjections/.venv/lib/python3.8/site-packages/grpc/_channel.py?line=943'>944</a>\u001b[0m state, call, \u001b[39m=\u001b[39m \u001b[39mself\u001b[39m\u001b[39m.\u001b[39m_blocking(request, timeout, metadata, credentials,\n\u001b[1;32m    <a href='file:///home/leonhard/Projects/AtlasOfSmoothSpaces/SpeechInterjections/.venv/lib/python3.8/site-packages/grpc/_channel.py?line=944'>945</a>\u001b[0m                               wait_for_ready, compression)\n\u001b[0;32m--> <a href='file:///home/leonhard/Projects/AtlasOfSmoothSpaces/SpeechInterjections/.venv/lib/python3.8/site-packages/grpc/_channel.py?line=945'>946</a>\u001b[0m \u001b[39mreturn\u001b[39;00m _end_unary_response_blocking(state, call, \u001b[39mFalse\u001b[39;49;00m, \u001b[39mNone\u001b[39;49;00m)\n",
      "File \u001b[0;32m~/Projects/AtlasOfSmoothSpaces/SpeechInterjections/.venv/lib/python3.8/site-packages/grpc/_channel.py:849\u001b[0m, in \u001b[0;36m_end_unary_response_blocking\u001b[0;34m(state, call, with_call, deadline)\u001b[0m\n\u001b[1;32m    <a href='file:///home/leonhard/Projects/AtlasOfSmoothSpaces/SpeechInterjections/.venv/lib/python3.8/site-packages/grpc/_channel.py?line=847'>848</a>\u001b[0m \u001b[39melse\u001b[39;00m:\n\u001b[0;32m--> <a href='file:///home/leonhard/Projects/AtlasOfSmoothSpaces/SpeechInterjections/.venv/lib/python3.8/site-packages/grpc/_channel.py?line=848'>849</a>\u001b[0m     \u001b[39mraise\u001b[39;00m _InactiveRpcError(state)\n",
      "\u001b[0;31m_InactiveRpcError\u001b[0m: <_InactiveRpcError of RPC that terminated with:\n\tstatus = StatusCode.INVALID_ARGUMENT\n\tdetails = \"Sync input too long. For audio longer than 1 min use LongRunningRecognize with a 'uri' parameter.\"\n\tdebug_error_string = \"{\"created\":\"@1653048283.557453872\",\"description\":\"Error received from peer ipv4:142.251.37.10:443\",\"file\":\"src/core/lib/surface/call.cc\",\"file_line\":952,\"grpc_message\":\"Sync input too long. For audio longer than 1 min use LongRunningRecognize with a 'uri' parameter.\",\"grpc_status\":3}\"\n>",
      "\nThe above exception was the direct cause of the following exception:\n",
      "\u001b[0;31mInvalidArgument\u001b[0m                           Traceback (most recent call last)",
      "\u001b[1;32m/home/leonhard/Projects/AtlasOfSmoothSpaces/SpeechInterjections/recordingTranscriptions.ipynb Cell 10'\u001b[0m in \u001b[0;36m<cell line: 1>\u001b[0;34m()\u001b[0m\n\u001b[0;32m----> <a href='vscode-notebook-cell:/home/leonhard/Projects/AtlasOfSmoothSpaces/SpeechInterjections/recordingTranscriptions.ipynb#ch0000009?line=0'>1</a>\u001b[0m response \u001b[39m=\u001b[39m client\u001b[39m.\u001b[39;49mrecognize(request\u001b[39m=\u001b[39;49m{\u001b[39m\"\u001b[39;49m\u001b[39mconfig\u001b[39;49m\u001b[39m\"\u001b[39;49m: config, \u001b[39m\"\u001b[39;49m\u001b[39maudio\u001b[39;49m\u001b[39m\"\u001b[39;49m: audio})\n",
      "File \u001b[0;32m~/Projects/AtlasOfSmoothSpaces/SpeechInterjections/.venv/lib/python3.8/site-packages/google/cloud/speech_v1/services/speech/client.py:561\u001b[0m, in \u001b[0;36mSpeechClient.recognize\u001b[0;34m(self, request, config, audio, retry, timeout, metadata)\u001b[0m\n\u001b[1;32m    <a href='file:///home/leonhard/Projects/AtlasOfSmoothSpaces/SpeechInterjections/.venv/lib/python3.8/site-packages/google/cloud/speech_v1/services/speech/client.py?line=557'>558</a>\u001b[0m rpc \u001b[39m=\u001b[39m \u001b[39mself\u001b[39m\u001b[39m.\u001b[39m_transport\u001b[39m.\u001b[39m_wrapped_methods[\u001b[39mself\u001b[39m\u001b[39m.\u001b[39m_transport\u001b[39m.\u001b[39mrecognize]\n\u001b[1;32m    <a href='file:///home/leonhard/Projects/AtlasOfSmoothSpaces/SpeechInterjections/.venv/lib/python3.8/site-packages/google/cloud/speech_v1/services/speech/client.py?line=559'>560</a>\u001b[0m \u001b[39m# Send the request.\u001b[39;00m\n\u001b[0;32m--> <a href='file:///home/leonhard/Projects/AtlasOfSmoothSpaces/SpeechInterjections/.venv/lib/python3.8/site-packages/google/cloud/speech_v1/services/speech/client.py?line=560'>561</a>\u001b[0m response \u001b[39m=\u001b[39m rpc(\n\u001b[1;32m    <a href='file:///home/leonhard/Projects/AtlasOfSmoothSpaces/SpeechInterjections/.venv/lib/python3.8/site-packages/google/cloud/speech_v1/services/speech/client.py?line=561'>562</a>\u001b[0m     request,\n\u001b[1;32m    <a href='file:///home/leonhard/Projects/AtlasOfSmoothSpaces/SpeechInterjections/.venv/lib/python3.8/site-packages/google/cloud/speech_v1/services/speech/client.py?line=562'>563</a>\u001b[0m     retry\u001b[39m=\u001b[39;49mretry,\n\u001b[1;32m    <a href='file:///home/leonhard/Projects/AtlasOfSmoothSpaces/SpeechInterjections/.venv/lib/python3.8/site-packages/google/cloud/speech_v1/services/speech/client.py?line=563'>564</a>\u001b[0m     timeout\u001b[39m=\u001b[39;49mtimeout,\n\u001b[1;32m    <a href='file:///home/leonhard/Projects/AtlasOfSmoothSpaces/SpeechInterjections/.venv/lib/python3.8/site-packages/google/cloud/speech_v1/services/speech/client.py?line=564'>565</a>\u001b[0m     metadata\u001b[39m=\u001b[39;49mmetadata,\n\u001b[1;32m    <a href='file:///home/leonhard/Projects/AtlasOfSmoothSpaces/SpeechInterjections/.venv/lib/python3.8/site-packages/google/cloud/speech_v1/services/speech/client.py?line=565'>566</a>\u001b[0m )\n\u001b[1;32m    <a href='file:///home/leonhard/Projects/AtlasOfSmoothSpaces/SpeechInterjections/.venv/lib/python3.8/site-packages/google/cloud/speech_v1/services/speech/client.py?line=567'>568</a>\u001b[0m \u001b[39m# Done; return the response.\u001b[39;00m\n\u001b[1;32m    <a href='file:///home/leonhard/Projects/AtlasOfSmoothSpaces/SpeechInterjections/.venv/lib/python3.8/site-packages/google/cloud/speech_v1/services/speech/client.py?line=568'>569</a>\u001b[0m \u001b[39mreturn\u001b[39;00m response\n",
      "File \u001b[0;32m~/Projects/AtlasOfSmoothSpaces/SpeechInterjections/.venv/lib/python3.8/site-packages/google/api_core/gapic_v1/method.py:154\u001b[0m, in \u001b[0;36m_GapicCallable.__call__\u001b[0;34m(self, timeout, retry, *args, **kwargs)\u001b[0m\n\u001b[1;32m    <a href='file:///home/leonhard/Projects/AtlasOfSmoothSpaces/SpeechInterjections/.venv/lib/python3.8/site-packages/google/api_core/gapic_v1/method.py?line=150'>151</a>\u001b[0m     metadata\u001b[39m.\u001b[39mextend(\u001b[39mself\u001b[39m\u001b[39m.\u001b[39m_metadata)\n\u001b[1;32m    <a href='file:///home/leonhard/Projects/AtlasOfSmoothSpaces/SpeechInterjections/.venv/lib/python3.8/site-packages/google/api_core/gapic_v1/method.py?line=151'>152</a>\u001b[0m     kwargs[\u001b[39m\"\u001b[39m\u001b[39mmetadata\u001b[39m\u001b[39m\"\u001b[39m] \u001b[39m=\u001b[39m metadata\n\u001b[0;32m--> <a href='file:///home/leonhard/Projects/AtlasOfSmoothSpaces/SpeechInterjections/.venv/lib/python3.8/site-packages/google/api_core/gapic_v1/method.py?line=153'>154</a>\u001b[0m \u001b[39mreturn\u001b[39;00m wrapped_func(\u001b[39m*\u001b[39;49margs, \u001b[39m*\u001b[39;49m\u001b[39m*\u001b[39;49mkwargs)\n",
      "File \u001b[0;32m~/Projects/AtlasOfSmoothSpaces/SpeechInterjections/.venv/lib/python3.8/site-packages/google/api_core/retry.py:283\u001b[0m, in \u001b[0;36mRetry.__call__.<locals>.retry_wrapped_func\u001b[0;34m(*args, **kwargs)\u001b[0m\n\u001b[1;32m    <a href='file:///home/leonhard/Projects/AtlasOfSmoothSpaces/SpeechInterjections/.venv/lib/python3.8/site-packages/google/api_core/retry.py?line=278'>279</a>\u001b[0m target \u001b[39m=\u001b[39m functools\u001b[39m.\u001b[39mpartial(func, \u001b[39m*\u001b[39margs, \u001b[39m*\u001b[39m\u001b[39m*\u001b[39mkwargs)\n\u001b[1;32m    <a href='file:///home/leonhard/Projects/AtlasOfSmoothSpaces/SpeechInterjections/.venv/lib/python3.8/site-packages/google/api_core/retry.py?line=279'>280</a>\u001b[0m sleep_generator \u001b[39m=\u001b[39m exponential_sleep_generator(\n\u001b[1;32m    <a href='file:///home/leonhard/Projects/AtlasOfSmoothSpaces/SpeechInterjections/.venv/lib/python3.8/site-packages/google/api_core/retry.py?line=280'>281</a>\u001b[0m     \u001b[39mself\u001b[39m\u001b[39m.\u001b[39m_initial, \u001b[39mself\u001b[39m\u001b[39m.\u001b[39m_maximum, multiplier\u001b[39m=\u001b[39m\u001b[39mself\u001b[39m\u001b[39m.\u001b[39m_multiplier\n\u001b[1;32m    <a href='file:///home/leonhard/Projects/AtlasOfSmoothSpaces/SpeechInterjections/.venv/lib/python3.8/site-packages/google/api_core/retry.py?line=281'>282</a>\u001b[0m )\n\u001b[0;32m--> <a href='file:///home/leonhard/Projects/AtlasOfSmoothSpaces/SpeechInterjections/.venv/lib/python3.8/site-packages/google/api_core/retry.py?line=282'>283</a>\u001b[0m \u001b[39mreturn\u001b[39;00m retry_target(\n\u001b[1;32m    <a href='file:///home/leonhard/Projects/AtlasOfSmoothSpaces/SpeechInterjections/.venv/lib/python3.8/site-packages/google/api_core/retry.py?line=283'>284</a>\u001b[0m     target,\n\u001b[1;32m    <a href='file:///home/leonhard/Projects/AtlasOfSmoothSpaces/SpeechInterjections/.venv/lib/python3.8/site-packages/google/api_core/retry.py?line=284'>285</a>\u001b[0m     \u001b[39mself\u001b[39;49m\u001b[39m.\u001b[39;49m_predicate,\n\u001b[1;32m    <a href='file:///home/leonhard/Projects/AtlasOfSmoothSpaces/SpeechInterjections/.venv/lib/python3.8/site-packages/google/api_core/retry.py?line=285'>286</a>\u001b[0m     sleep_generator,\n\u001b[1;32m    <a href='file:///home/leonhard/Projects/AtlasOfSmoothSpaces/SpeechInterjections/.venv/lib/python3.8/site-packages/google/api_core/retry.py?line=286'>287</a>\u001b[0m     \u001b[39mself\u001b[39;49m\u001b[39m.\u001b[39;49m_deadline,\n\u001b[1;32m    <a href='file:///home/leonhard/Projects/AtlasOfSmoothSpaces/SpeechInterjections/.venv/lib/python3.8/site-packages/google/api_core/retry.py?line=287'>288</a>\u001b[0m     on_error\u001b[39m=\u001b[39;49mon_error,\n\u001b[1;32m    <a href='file:///home/leonhard/Projects/AtlasOfSmoothSpaces/SpeechInterjections/.venv/lib/python3.8/site-packages/google/api_core/retry.py?line=288'>289</a>\u001b[0m )\n",
      "File \u001b[0;32m~/Projects/AtlasOfSmoothSpaces/SpeechInterjections/.venv/lib/python3.8/site-packages/google/api_core/retry.py:190\u001b[0m, in \u001b[0;36mretry_target\u001b[0;34m(target, predicate, sleep_generator, deadline, on_error)\u001b[0m\n\u001b[1;32m    <a href='file:///home/leonhard/Projects/AtlasOfSmoothSpaces/SpeechInterjections/.venv/lib/python3.8/site-packages/google/api_core/retry.py?line=187'>188</a>\u001b[0m \u001b[39mfor\u001b[39;00m sleep \u001b[39min\u001b[39;00m sleep_generator:\n\u001b[1;32m    <a href='file:///home/leonhard/Projects/AtlasOfSmoothSpaces/SpeechInterjections/.venv/lib/python3.8/site-packages/google/api_core/retry.py?line=188'>189</a>\u001b[0m     \u001b[39mtry\u001b[39;00m:\n\u001b[0;32m--> <a href='file:///home/leonhard/Projects/AtlasOfSmoothSpaces/SpeechInterjections/.venv/lib/python3.8/site-packages/google/api_core/retry.py?line=189'>190</a>\u001b[0m         \u001b[39mreturn\u001b[39;00m target()\n\u001b[1;32m    <a href='file:///home/leonhard/Projects/AtlasOfSmoothSpaces/SpeechInterjections/.venv/lib/python3.8/site-packages/google/api_core/retry.py?line=191'>192</a>\u001b[0m     \u001b[39m# pylint: disable=broad-except\u001b[39;00m\n\u001b[1;32m    <a href='file:///home/leonhard/Projects/AtlasOfSmoothSpaces/SpeechInterjections/.venv/lib/python3.8/site-packages/google/api_core/retry.py?line=192'>193</a>\u001b[0m     \u001b[39m# This function explicitly must deal with broad exceptions.\u001b[39;00m\n\u001b[1;32m    <a href='file:///home/leonhard/Projects/AtlasOfSmoothSpaces/SpeechInterjections/.venv/lib/python3.8/site-packages/google/api_core/retry.py?line=193'>194</a>\u001b[0m     \u001b[39mexcept\u001b[39;00m \u001b[39mException\u001b[39;00m \u001b[39mas\u001b[39;00m exc:\n",
      "File \u001b[0;32m~/Projects/AtlasOfSmoothSpaces/SpeechInterjections/.venv/lib/python3.8/site-packages/google/api_core/grpc_helpers.py:59\u001b[0m, in \u001b[0;36m_wrap_unary_errors.<locals>.error_remapped_callable\u001b[0;34m(*args, **kwargs)\u001b[0m\n\u001b[1;32m     <a href='file:///home/leonhard/Projects/AtlasOfSmoothSpaces/SpeechInterjections/.venv/lib/python3.8/site-packages/google/api_core/grpc_helpers.py?line=56'>57</a>\u001b[0m     \u001b[39mreturn\u001b[39;00m callable_(\u001b[39m*\u001b[39margs, \u001b[39m*\u001b[39m\u001b[39m*\u001b[39mkwargs)\n\u001b[1;32m     <a href='file:///home/leonhard/Projects/AtlasOfSmoothSpaces/SpeechInterjections/.venv/lib/python3.8/site-packages/google/api_core/grpc_helpers.py?line=57'>58</a>\u001b[0m \u001b[39mexcept\u001b[39;00m grpc\u001b[39m.\u001b[39mRpcError \u001b[39mas\u001b[39;00m exc:\n\u001b[0;32m---> <a href='file:///home/leonhard/Projects/AtlasOfSmoothSpaces/SpeechInterjections/.venv/lib/python3.8/site-packages/google/api_core/grpc_helpers.py?line=58'>59</a>\u001b[0m     \u001b[39mraise\u001b[39;00m exceptions\u001b[39m.\u001b[39mfrom_grpc_error(exc) \u001b[39mfrom\u001b[39;00m \u001b[39mexc\u001b[39;00m\n",
      "\u001b[0;31mInvalidArgument\u001b[0m: 400 Sync input too long. For audio longer than 1 min use LongRunningRecognize with a 'uri' parameter."
     ]
    }
   ],
   "source": [
    "response = client.recognize(request={\"config\": config, \"audio\": audio})\n",
    "# Reads the response\n",
    "# results = []\n",
    "# for result in response.results:\n",
    "#     print(\"Transcript: {}\".format(result.alternatives[0].transcript))\n",
    "#     results.append(result)"
   ]
  },
  {
   "cell_type": "code",
   "execution_count": null,
   "metadata": {},
   "outputs": [
    {
     "name": "stdout",
     "output_type": "stream",
     "text": [
      "Transcript: The Birch canoes slid on the smooth planks.\n",
      "Transcript:  Glue the sheet to the dark blue background.\n",
      "Transcript:  It is easy to tell the death of a well.\n",
      "Transcript:  These days, a chicken leg is a verb dish.\n",
      "Transcript:  Rice is often served in round bowls.\n",
      "Transcript:  The juice of lemons makes find punch.\n",
      "Transcript:  The box was down beside the park truck.\n",
      "Transcript:  The Hogs of food shop, corn and garbage.\n",
      "Transcript:  4 hours of study work Facebook.\n",
      "Transcript:  A large size in stockings is hard to sell.\n"
     ]
    }
   ],
   "source": [
    "results = []\n",
    "for result in response.results:\n",
    "    print(\"Transcript: {}\".format(result.alternatives[0].transcript))\n",
    "    results.append(result)"
   ]
  },
  {
   "cell_type": "code",
   "execution_count": 52,
   "metadata": {},
   "outputs": [
    {
     "data": {
      "text/plain": [
       "[]"
      ]
     },
     "execution_count": 52,
     "metadata": {},
     "output_type": "execute_result"
    }
   ],
   "source": [
    "results      "
   ]
  },
  {
   "cell_type": "code",
   "execution_count": null,
   "metadata": {},
   "outputs": [],
   "source": []
  }
 ],
 "metadata": {
  "interpreter": {
   "hash": "2413c91228e3812275b32d4b72194054a6e5f8ad4fe03edaa0ceb40defc215db"
  },
  "kernelspec": {
   "display_name": "Python 3.8.10 ('.venv': venv)",
   "language": "python",
   "name": "python3"
  },
  "language_info": {
   "codemirror_mode": {
    "name": "ipython",
    "version": 3
   },
   "file_extension": ".py",
   "mimetype": "text/x-python",
   "name": "python",
   "nbconvert_exporter": "python",
   "pygments_lexer": "ipython3",
   "version": "3.8.10"
  },
  "orig_nbformat": 4
 },
 "nbformat": 4,
 "nbformat_minor": 2
}
